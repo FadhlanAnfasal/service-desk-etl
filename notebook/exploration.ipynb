{
 "cells": [
  {
   "cell_type": "code",
   "execution_count": 30,
   "id": "12856523",
   "metadata": {},
   "outputs": [
    {
     "name": "stdout",
     "output_type": "stream",
     "text": [
      "   Index   \"Year\"                \"Age\"              \"Name\"  \\\n",
      "1   1928       44      \"Emil Jannings\"   \"The Last Command   \n",
      "2   1929       41      \"Warner Baxter\"    \"In Old Arizona\"   \n",
      "3   1930       62      \"George Arliss\"          \"Disraeli\"   \n",
      "4   1931       53   \"Lionel Barrymore\"       \"A Free Soul\"   \n",
      "5   1932       47      \"Wallace Beery\"         \"The Champ\"   \n",
      "\n",
      "                  \"Movie\"  \n",
      "1   The Way of All Flesh\"  \n",
      "2                     NaN  \n",
      "3                     NaN  \n",
      "4                     NaN  \n",
      "5                     NaN  \n"
     ]
    }
   ],
   "source": [
    "import pandas as pd \n",
    "\n",
    "df = pd.read_csv(\"oscar_age_male.csv\")\n",
    "\n",
    "print(df.head())"
   ]
  },
  {
   "cell_type": "code",
   "execution_count": null,
   "id": "54517417",
   "metadata": {},
   "outputs": [
    {
     "name": "stdout",
     "output_type": "stream",
     "text": [
      "Index(['Index', ' \"Year\"', ' \"Age\"', ' \"Name\"', ' \"Movie\"'], dtype='object')\n"
     ]
    }
   ],
   "source": [
    "print(df.columns)"
   ]
  },
  {
   "cell_type": "code",
   "execution_count": 19,
   "id": "4fb7ec6c",
   "metadata": {},
   "outputs": [
    {
     "name": "stdout",
     "output_type": "stream",
     "text": [
      "Empty DataFrame\n",
      "Columns: [Index,  \"Year\",  \"Age\",  \"Name\",  \"Movie\"]\n",
      "Index: []\n"
     ]
    }
   ],
   "source": [
    "sean_penn = df[df[' \"Name\"'] == ' \"Sean Penn\"']\n",
    "print(sean_penn)"
   ]
  },
  {
   "cell_type": "code",
   "execution_count": 20,
   "id": "6cbc75b8",
   "metadata": {},
   "outputs": [],
   "source": [
    "# Bersihkan nama kolom\n",
    "df.columns = df.columns.str.strip().str.replace('\"', '')"
   ]
  },
  {
   "cell_type": "code",
   "execution_count": 26,
   "id": "3e88ddb6",
   "metadata": {},
   "outputs": [],
   "source": [
    "# Bersihkan data pada kolom Name\n",
    "df['Age'] = df['Age'].str.strip().str.replace('\"', '')"
   ]
  },
  {
   "cell_type": "code",
   "execution_count": 27,
   "id": "2c689e3c",
   "metadata": {},
   "outputs": [
    {
     "name": "stdout",
     "output_type": "stream",
     "text": [
      "    Index  Year        Age          Name Movie\n",
      "77   2004    43  Sean Penn  Mystic River   NaN\n",
      "82   2009    48  Sean Penn          Milk   NaN\n"
     ]
    }
   ],
   "source": [
    "# Cari Sean Penn\n",
    "sean_penn = df[df['Age'] == 'Sean Penn']\n",
    "print(sean_penn)"
   ]
  },
  {
   "cell_type": "code",
   "execution_count": 31,
   "id": "81018d89",
   "metadata": {},
   "outputs": [],
   "source": [
    "# Rename kolom agar rapi\n",
    "df.columns = df.columns.str.strip().str.replace('\"', '')"
   ]
  },
  {
   "cell_type": "code",
   "execution_count": 28,
   "id": "2573aa27",
   "metadata": {},
   "outputs": [
    {
     "name": "stdout",
     "output_type": "stream",
     "text": [
      "['Emil Jannings' 'Warner Baxter' 'George Arliss' 'Lionel Barrymore'\n",
      " 'Wallace Beery' 'Fredric March' 'Charles Laughton' 'Clark Gable'\n",
      " 'Victor McLaglen' 'Paul Muni' 'Spencer Tracy' 'Robert Donat'\n",
      " 'James Stewart' 'Gary Cooper' 'James Cagney' 'Paul Lukas' 'Bing Crosby'\n",
      " 'Ray Milland' 'Ronald Colman' 'Laurence Olivier' 'Broderick Crawford'\n",
      " 'José Ferrer' 'Humphrey Bogart' 'William Holden' 'Marlon Brando'\n",
      " 'Ernest Borgnine' 'Yul Brynner' 'Alec Guinness' 'David Niven'\n",
      " 'Charlton Heston' 'Burt Lancaster' 'Maximilian Schell' 'Gregory Peck'\n",
      " 'Sidney Poitier' 'Rex Harrison' 'Lee Marvin' 'Paul Scofield'\n",
      " 'Rod Steiger' 'Cliff Robertson' 'John Wayne' 'George C. Scott'\n",
      " 'Gene Hackman' 'Jack Lemmon' 'Art Carney' 'Jack Nicholson' 'Peter Finch'\n",
      " 'Richard Dreyfuss' 'Jon Voight' 'Dustin Hoffman' 'Robert De Niro'\n",
      " 'Henry Fonda' 'Ben Kingsley' 'Robert Duvall' 'F. Murray Abraham'\n",
      " 'William Hurt' 'Paul Newman' 'Michael Douglas' 'Daniel Day-Lewis'\n",
      " 'Jeremy Irons' 'Anthony Hopkins' 'Al Pacino' 'Tom Hanks' 'Nicolas Cage'\n",
      " 'Geoffrey Rush' 'Roberto Benigni' 'Kevin Spacey' 'Russell Crowe'\n",
      " 'Denzel Washington' 'Adrien Brody' 'Sean Penn' 'Jamie Foxx'\n",
      " 'Philip Seymour Hoffman' 'Forest Whitaker' 'Jeff Bridges' 'Colin Firth'\n",
      " 'Jean Dujardin' 'Matthew McConaughey' 'Eddie Redmayne'\n",
      " 'Leonardo DiCaprio']\n"
     ]
    }
   ],
   "source": [
    "print(df['Age'].unique())"
   ]
  },
  {
   "cell_type": "code",
   "execution_count": 32,
   "id": "fb7e8a16",
   "metadata": {},
   "outputs": [
    {
     "name": "stdout",
     "output_type": "stream",
     "text": [
      "    Index  Year                  Age                               Name  \\\n",
      "1    1928    44      \"Emil Jannings\"                  \"The Last Command   \n",
      "2    1929    41      \"Warner Baxter\"                   \"In Old Arizona\"   \n",
      "3    1930    62      \"George Arliss\"                         \"Disraeli\"   \n",
      "4    1931    53   \"Lionel Barrymore\"                      \"A Free Soul\"   \n",
      "5    1932    47      \"Wallace Beery\"                        \"The Champ\"   \n",
      "6    1933    35      \"Fredric March\"          \"Dr. Jekyll and Mr. Hyde\"   \n",
      "7    1934    34   \"Charles Laughton\"   \"The Private Life of Henry VIII\"   \n",
      "8    1935    34        \"Clark Gable\"            \"It Happened One Night\"   \n",
      "9    1936    49    \"Victor McLaglen\"                   \"The Informer\"\\t   \n",
      "10   1937    41          \"Paul Muni\"     \"The Story of Louis Pasteur\"\\t   \n",
      "\n",
      "                     Movie  \n",
      "1    The Way of All Flesh\"  \n",
      "2                      NaN  \n",
      "3                      NaN  \n",
      "4                      NaN  \n",
      "5                      NaN  \n",
      "6                      NaN  \n",
      "7                      NaN  \n",
      "8                      NaN  \n",
      "9                      NaN  \n",
      "10                     NaN  \n"
     ]
    }
   ],
   "source": [
    "# Tampilkan beberapa baris untuk cek data\n",
    "print(df.head(10))"
   ]
  },
  {
   "cell_type": "code",
   "execution_count": 33,
   "id": "9dabec2f",
   "metadata": {},
   "outputs": [
    {
     "name": "stdout",
     "output_type": "stream",
     "text": [
      "Index     0\n",
      "Year      0\n",
      "Age       0\n",
      "Name      0\n",
      "Movie    87\n",
      "dtype: int64\n"
     ]
    }
   ],
   "source": [
    "# Jika kolom Movie berisi NaN, cek apakah data bergeser\n",
    "print(df.isnull().sum())"
   ]
  },
  {
   "cell_type": "code",
   "execution_count": 34,
   "id": "96cab6f9",
   "metadata": {},
   "outputs": [],
   "source": [
    "df['Movie'] = df['Movie'].fillna(df['Name'])"
   ]
  },
  {
   "cell_type": "code",
   "execution_count": 35,
   "id": "17f2d513",
   "metadata": {},
   "outputs": [
    {
     "name": "stdout",
     "output_type": "stream",
     "text": [
      "   Index  Year                  Age                Name  \\\n",
      "1   1928    44      \"Emil Jannings\"   \"The Last Command   \n",
      "2   1929    41      \"Warner Baxter\"    \"In Old Arizona\"   \n",
      "3   1930    62      \"George Arliss\"          \"Disraeli\"   \n",
      "4   1931    53   \"Lionel Barrymore\"       \"A Free Soul\"   \n",
      "5   1932    47      \"Wallace Beery\"         \"The Champ\"   \n",
      "\n",
      "                    Movie  \n",
      "1   The Way of All Flesh\"  \n",
      "2        \"In Old Arizona\"  \n",
      "3              \"Disraeli\"  \n",
      "4           \"A Free Soul\"  \n",
      "5             \"The Champ\"  \n"
     ]
    }
   ],
   "source": [
    "print(df.head())"
   ]
  },
  {
   "cell_type": "code",
   "execution_count": 36,
   "id": "29590607",
   "metadata": {},
   "outputs": [
    {
     "name": "stderr",
     "output_type": "stream",
     "text": [
      "C:\\Users\\ACER\\AppData\\Local\\Temp\\ipykernel_8712\\709404733.py:2: FutureWarning: DataFrame.applymap has been deprecated. Use DataFrame.map instead.\n",
      "  df = df.applymap(lambda x: x.strip('\"') if isinstance(x, str) else x)\n"
     ]
    },
    {
     "name": "stdout",
     "output_type": "stream",
     "text": [
      "                                Name                             Movie\n",
      "1                  \"The Last Command              The Way of All Flesh\n",
      "2                    \"In Old Arizona                   \"In Old Arizona\n",
      "3                          \"Disraeli                         \"Disraeli\n",
      "4                       \"A Free Soul                      \"A Free Soul\n",
      "5                         \"The Champ                        \"The Champ\n",
      "6           \"Dr. Jekyll and Mr. Hyde          \"Dr. Jekyll and Mr. Hyde\n",
      "7    \"The Private Life of Henry VIII   \"The Private Life of Henry VIII\n",
      "8             \"It Happened One Night            \"It Happened One Night\n",
      "9                   \"The Informer\"\\t                  \"The Informer\"\\t\n",
      "10    \"The Story of Louis Pasteur\"\\t    \"The Story of Louis Pasteur\"\\t\n"
     ]
    }
   ],
   "source": [
    "# Hilangkan tanda kutip di semua kolom\n",
    "df = df.applymap(lambda x: x.strip('\"') if isinstance(x, str) else x)\n",
    "\n",
    "# Jika ada data yang masih salah, cek dan perbaiki manual\n",
    "print(df[['Name', 'Movie']].head(10))"
   ]
  },
  {
   "cell_type": "code",
   "execution_count": 37,
   "id": "1f55d690",
   "metadata": {},
   "outputs": [
    {
     "name": "stdout",
     "output_type": "stream",
     "text": [
      "Empty DataFrame\n",
      "Columns: [Index, Year, Age, Name, Movie]\n",
      "Index: []\n"
     ]
    }
   ],
   "source": [
    "# Cek jika ada data Movie yang mengandung nama aktor, atau sebaliknya\n",
    "print(df[df['Movie'].str.contains('Penn|Jannings|Baxter|Arliss|Barrymore|Beery', na=False)])"
   ]
  },
  {
   "cell_type": "code",
   "execution_count": 38,
   "id": "9f7a903a",
   "metadata": {},
   "outputs": [
    {
     "name": "stdout",
     "output_type": "stream",
     "text": [
      "   Index  Year                 Age                Name                  Movie\n",
      "1   1928    44      \"Emil Jannings   \"The Last Command   The Way of All Flesh\n",
      "2   1929    41      \"Warner Baxter     \"In Old Arizona        \"In Old Arizona\n",
      "3   1930    62      \"George Arliss           \"Disraeli              \"Disraeli\n",
      "4   1931    53   \"Lionel Barrymore        \"A Free Soul           \"A Free Soul\n",
      "5   1932    47      \"Wallace Beery          \"The Champ             \"The Champ\n"
     ]
    }
   ],
   "source": [
    "print(df.head())"
   ]
  },
  {
   "cell_type": "code",
   "execution_count": 41,
   "id": "a74f3518",
   "metadata": {},
   "outputs": [
    {
     "name": "stdout",
     "output_type": "stream",
     "text": [
      "      Year     Age                 Name              Movie\n",
      "0   \"Year\"   \"Age\"               \"Name\"            \"Movie\"\n",
      "1     1929      41      \"Warner Baxter\"   \"In Old Arizona\"\n",
      "2     1930      62      \"George Arliss\"         \"Disraeli\"\n",
      "3     1931      53   \"Lionel Barrymore\"      \"A Free Soul\"\n",
      "4     1932      47      \"Wallace Beery\"        \"The Champ\"\n"
     ]
    }
   ],
   "source": [
    "df = pd.read_csv(\n",
    "    \"oscar_age_male.csv\",\n",
    "    header=None,\n",
    "    delimiter=\",\",\n",
    "    quotechar='\"',\n",
    "    on_bad_lines='skip'\n",
    ")\n",
    "df.columns = [\"Index\", \"Year\", \"Age\", \"Name\", \"Movie\"]\n",
    "df = df.drop(columns=[\"Index\"])\n",
    "print(df.head())"
   ]
  },
  {
   "cell_type": "code",
   "execution_count": 42,
   "id": "08217471",
   "metadata": {},
   "outputs": [
    {
     "name": "stdout",
     "output_type": "stream",
     "text": [
      "    Year  Age                 Name                       Movie\n",
      "0   1929   41      \"Warner Baxter\"            \"In Old Arizona\"\n",
      "1   1930   62      \"George Arliss\"                  \"Disraeli\"\n",
      "2   1931   53   \"Lionel Barrymore\"               \"A Free Soul\"\n",
      "3   1932   47      \"Wallace Beery\"                 \"The Champ\"\n",
      "4   1933   35      \"Fredric March\"   \"Dr. Jekyll and Mr. Hyde\"\n"
     ]
    }
   ],
   "source": [
    "df = df.iloc[1:].reset_index(drop=True)\n",
    "print(df.head())"
   ]
  },
  {
   "cell_type": "code",
   "execution_count": 43,
   "id": "2157d2d7",
   "metadata": {},
   "outputs": [
    {
     "name": "stdout",
     "output_type": "stream",
     "text": [
      "    Year  Age                 Name                       Movie\n",
      "1   1929   41      \"Warner Baxter\"            \"In Old Arizona\"\n",
      "2   1930   62      \"George Arliss\"                  \"Disraeli\"\n",
      "3   1931   53   \"Lionel Barrymore\"               \"A Free Soul\"\n",
      "4   1932   47      \"Wallace Beery\"                 \"The Champ\"\n",
      "5   1933   35      \"Fredric March\"   \"Dr. Jekyll and Mr. Hyde\"\n"
     ]
    }
   ],
   "source": [
    "df.index = df.index + 1\n",
    "print(df.head())"
   ]
  }
 ],
 "metadata": {
  "kernelspec": {
   "display_name": "venv",
   "language": "python",
   "name": "python3"
  },
  "language_info": {
   "codemirror_mode": {
    "name": "ipython",
    "version": 3
   },
   "file_extension": ".py",
   "mimetype": "text/x-python",
   "name": "python",
   "nbconvert_exporter": "python",
   "pygments_lexer": "ipython3",
   "version": "3.14.0"
  }
 },
 "nbformat": 4,
 "nbformat_minor": 5
}
